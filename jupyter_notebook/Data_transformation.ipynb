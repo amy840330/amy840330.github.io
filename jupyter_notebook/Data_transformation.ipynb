{
 "cells": [
  {
   "cell_type": "code",
   "execution_count": 1,
   "id": "illegal-spank",
   "metadata": {},
   "outputs": [],
   "source": [
    "import pandas as pd"
   ]
  },
  {
   "cell_type": "code",
   "execution_count": 76,
   "id": "obvious-baking",
   "metadata": {},
   "outputs": [],
   "source": [
    "df=pd.read_csv(r'Resources/cities.csv')"
   ]
  },
  {
   "cell_type": "code",
   "execution_count": 78,
   "id": "sufficient-friendship",
   "metadata": {},
   "outputs": [],
   "source": [
    "df.to_html('cities2.html',index=False)"
   ]
  }
 ],
 "metadata": {
  "kernelspec": {
   "display_name": "Python [conda env:PythonData]",
   "language": "python",
   "name": "conda-env-PythonData-py"
  },
  "language_info": {
   "codemirror_mode": {
    "name": "ipython",
    "version": 3
   },
   "file_extension": ".py",
   "mimetype": "text/x-python",
   "name": "python",
   "nbconvert_exporter": "python",
   "pygments_lexer": "ipython3",
   "version": "3.6.10"
  }
 },
 "nbformat": 4,
 "nbformat_minor": 5
}
